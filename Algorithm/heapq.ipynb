{
 "cells": [
  {
   "cell_type": "code",
   "execution_count": 2,
   "metadata": {},
   "outputs": [
    {
     "name": "stdout",
     "output_type": "stream",
     "text": [
      "[4]\n",
      "[1, 4]\n",
      "[1, 4, 7]\n",
      "[1, 3, 7, 4]\n"
     ]
    }
   ],
   "source": [
    "import heapq\n",
    "\n",
    "heap = []\n",
    "heapq.heappush(heap, 4)\n",
    "print(heap)\n",
    "heapq.heappush(heap, 1)\n",
    "print(heap)\n",
    "heapq.heappush(heap, 7)\n",
    "print(heap)\n",
    "heapq.heappush(heap, 3)\n",
    "print(heap)"
   ]
  },
  {
   "cell_type": "code",
   "execution_count": 3,
   "metadata": {},
   "outputs": [
    {
     "name": "stdout",
     "output_type": "stream",
     "text": [
      "[1, 3, 5, 4, 8, 7]\n"
     ]
    }
   ],
   "source": [
    "heap2 = [4, 1, 7, 3, 8, 5]\n",
    "heapq.heapify(heap2)\n",
    "print(heap2)"
   ]
  },
  {
   "cell_type": "code",
   "execution_count": 13,
   "metadata": {},
   "outputs": [
    {
     "name": "stdout",
     "output_type": "stream",
     "text": [
      "array: [0, 3, 4, 5, 2, 1, 6, 7]\n",
      "array: [0, 3, 1, 5, 2, 4, 6, 7]\n",
      "array: [0, 1, 2, 5, 3, 4, 6, 7]\n",
      "ans: [1]\n",
      "array: [0, 2, 3, 5, 7, 4, 6, 1]\n",
      "ans: [1, 2]\n",
      "array: [0, 3, 4, 5, 7, 6, 2, 1]\n",
      "ans: [1, 2, 3]\n",
      "array: [0, 4, 6, 5, 7, 3, 2, 1]\n",
      "ans: [1, 2, 3, 4]\n",
      "array: [0, 5, 6, 7, 4, 3, 2, 1]\n",
      "ans: [1, 2, 3, 4, 5]\n",
      "array: [0, 6, 7, 5, 4, 3, 2, 1]\n",
      "ans: [1, 2, 3, 4, 5, 6]\n",
      "array: [0, 7, 6, 5, 4, 3, 2, 1]\n",
      "ans: [1, 2, 3, 4, 5, 6, 7]\n",
      "array: [0, 7, 6, 5, 4, 3, 2, 1]\n",
      "[1, 2, 3, 4, 5, 6, 7]\n"
     ]
    }
   ],
   "source": [
    "\"\"\"\n",
    "힙 정렬 (Heap sort)\n",
    "정렬하고자 하는 배열을 힙 자료구조로 만들고, 이의 특성을 이용한 정렬\n",
    "\"\"\"\n",
    "\n",
    "def heapify(li, idx, n):\n",
    "    # li : 힙으로 만들고자 하는 배열\n",
    "    # idx : 선택된 노드\n",
    "    # n : 힙의 범위\n",
    "    \n",
    "    # 자식의 왼쪽 노드를 의미\n",
    "    left = idx * 2\n",
    "    # 자식의 오른쪽 노드를 의미\n",
    "    right = idx * 2 + 1\n",
    "    s_idx = idx\n",
    "\n",
    "    # 선택 노드, 선택 노드의 양 자식 중 가장 작은 값을 찾는 과정\n",
    "    if left <= n and li[s_idx] > li[left]:\n",
    "        s_idx = left\n",
    "    if right <= n and li[s_idx] > li[right]:\n",
    "        s_idx = right\n",
    "        \n",
    "    # 선택 노드와 자식 노드의 위치가 바뀌어야 한다면\n",
    "    if s_idx != idx:\n",
    "        # 부모 자식 위치 변경\n",
    "        li[idx], li[s_idx] = li[s_idx], li[idx]\n",
    "        # 부모가 자식으로 내려간 이후에도, 그 자식과 바뀔 여지가 있는지 재귀로 체크\n",
    "        return heapify(li, s_idx, n)\n",
    "\n",
    "def heap_sort(array):\n",
    "    n = len(array)\n",
    "    \n",
    "    # 루트노드는 index 1부터 시작하므로, 앞에 0 원소를 추가한 채로 시작.\n",
    "    array = [0] + array\n",
    "    \n",
    "    # 최종 정렬된 원소들이 저장될 배열\n",
    "    ans = []\n",
    "\n",
    "    # Min Heap을 만드는 과정\n",
    "    for i in range(n//2, 0, -1):\n",
    "        heapify(array, i, n)\n",
    "        print(f\"array: {array}\")\n",
    "\n",
    "    # 루트 노드 원소를 정렬 배열에 저장, heapify 반복\n",
    "    for i in range(n, 0, -1):\n",
    "        ans.append(array[1])\n",
    "        print(f\"ans: {ans}\")\n",
    "        array[i], array[1] = array[1], array[i]\n",
    "        heapify(array, 1, i-1)\n",
    "        print(f\"array: {array}\")\n",
    "    \n",
    "    # array[1:]를 얻으면 오름차순 정렬 배열을 얻을 수 있음\n",
    "    return ans\n",
    "\n",
    "\n",
    "print(heap_sort([3, 4, 5, 2, 1, 6, 7]))"
   ]
  },
  {
   "cell_type": "code",
   "execution_count": 41,
   "metadata": {},
   "outputs": [
    {
     "name": "stdout",
     "output_type": "stream",
     "text": [
      "정렬 전:\n",
      "[1, 23, 28, 34, 10, 16, 23, 2, 18, 11]\n",
      "[1, 23, 28, 34, 10, 16, 23, 2, 18, 11]\n",
      "------------------------------\n",
      "[10, 23, 28, 18, 11, 16, 23, 2, 1, 34]\n",
      "------------------------------\n",
      "[1, 23, 23, 18, 11, 16, 10, 2, 28, 34]\n",
      "------------------------------\n",
      "[1, 18, 23, 2, 11, 16, 10, 23, 28, 34]\n",
      "------------------------------\n",
      "[10, 18, 16, 2, 11, 1, 23, 23, 28, 34]\n",
      "------------------------------\n",
      "[1, 11, 16, 2, 10, 18, 23, 23, 28, 34]\n",
      "------------------------------\n",
      "[10, 11, 1, 2, 16, 18, 23, 23, 28, 34]\n",
      "------------------------------\n",
      "[2, 10, 1, 11, 16, 18, 23, 23, 28, 34]\n",
      "------------------------------\n",
      "[1, 2, 10, 11, 16, 18, 23, 23, 28, 34]\n",
      "------------------------------\n",
      "정렬 후:\n",
      "[1, 2, 10, 11, 16, 18, 23, 23, 28, 34]\n"
     ]
    }
   ],
   "source": [
    "import random\n",
    "\n",
    "def heapify(arr, arr_len):\n",
    "    \"\"\"배열 arr을 인덱스 0부터 인덱스 (arr_len -1) 사이를 최대 힙으로 재구성한다.\"\"\"\n",
    "    last_parent = arr_len // 2 - 1\n",
    "    for current in range(last_parent, -1, -1):\n",
    "        while current <= last_parent:\n",
    "            child = current * 2 + 1\n",
    "            sibling = child + 1\n",
    "            if sibling < arr_len and arr[child] < arr[sibling]:\n",
    "                child = sibling\n",
    "            if arr[current] < arr[child]:\n",
    "                arr[current], arr[child] = arr[child], arr[current]\n",
    "                current = child\n",
    "            else:\n",
    "                break\n",
    "\n",
    "def heap_sort(arr):\n",
    "    \"\"\"배열 arr을 오름차순으로 힙 정렬하다.\"\"\"\n",
    "    for arr_len in range(len(arr), 1, -1):\n",
    "        print(arr)\n",
    "        heapify(arr, arr_len)\n",
    "        arr[arr_len - 1], arr[0] = arr[0], arr[arr_len - 1]\n",
    "        print(\"------------------------------\")\n",
    "\n",
    "\n",
    "# arr = [random.randint(1, 50) for _ in range(10)]\n",
    "arr = [1, 23, 28, 34, 10, 16, 23, 2, 18, 11]\n",
    "print(f\"정렬 전:\\n{arr}\")\n",
    "heap_sort(arr)\n",
    "print(f\"정렬 후:\\n{arr}\")\n"
   ]
  },
  {
   "cell_type": "code",
   "execution_count": 3,
   "metadata": {},
   "outputs": [
    {
     "name": "stdout",
     "output_type": "stream",
     "text": [
      "[None, 1, 1, 1, 2, 3, 4, 4, 5, 5, 6, 7, 7, 8, 10]\n"
     ]
    }
   ],
   "source": [
    "def swap(tree, index_1, index_2):\n",
    "    temp = tree[index_1]\n",
    "    tree[index_1] = tree[index_2]\n",
    "    tree[index_2] = temp\n",
    "\n",
    "def heapify(tree, root_index, tree_size):\n",
    "    \"\"\"heapify 함수\"\"\"\n",
    "\n",
    "    # 왼쪽, 오른쪽 자식 노드의 인덱스\n",
    "    left_child_index = 2 * root_index\n",
    "    right_child_index = 2 * root_index + 1\n",
    "\n",
    "    largest = root_index  # 부모 노드의 값이 가장 크다고 가정\n",
    "\n",
    "    # 왼쪽 자식과 비교\n",
    "    if 0 < left_child_index < tree_size and tree[largest] < tree[left_child_index]:\n",
    "        largest = left_child_index\n",
    "\n",
    "    # 오른쪽 자식과 비교\n",
    "    if 0 < right_child_index < tree_size and tree[largest] < tree[right_child_index]:\n",
    "        largest = right_child_index\n",
    "\n",
    "    if largest != root_index:\n",
    "        swap(tree, root_index, largest)\n",
    "        heapify(tree, largest, tree_size)\n",
    "\n",
    "def heapsort(tree):\n",
    "    \"\"\" 힙 정렬 \"\"\"\n",
    "    tree_size = len(tree)\n",
    "    for index in range(tree_size - 1, 0, -1):\n",
    "        heapify(tree, index, tree_size)\n",
    "    for i in range(tree_size - 1, 0, -1):\n",
    "        swap(tree, 1, i)\n",
    "        heapify(tree, 1, i)\n",
    "\n",
    "data_to_sort = [None, 6, 1, 4, 7, 10, 3, 8, 5, 1, 5, 7, 4, 2, 1]\n",
    "heapsort(data_to_sort)\n",
    "print(data_to_sort)\n"
   ]
  }
 ],
 "metadata": {
  "kernelspec": {
   "display_name": "muderer",
   "language": "python",
   "name": "python3"
  },
  "language_info": {
   "codemirror_mode": {
    "name": "ipython",
    "version": 3
   },
   "file_extension": ".py",
   "mimetype": "text/x-python",
   "name": "python",
   "nbconvert_exporter": "python",
   "pygments_lexer": "ipython3",
   "version": "3.10.13"
  }
 },
 "nbformat": 4,
 "nbformat_minor": 2
}
